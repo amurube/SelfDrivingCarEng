{
 "cells": [
  {
   "cell_type": "code",
   "execution_count": 1,
   "id": "dae3a82f",
   "metadata": {},
   "outputs": [],
   "source": [
    "import numpy as np\n",
    "import tensorflow as tf"
   ]
  },
  {
   "cell_type": "markdown",
   "id": "16ae84d6",
   "metadata": {},
   "source": [
    "## tf.Tensor vs np.array\n",
    "Tensors are a type of array used by Tensorflow. They have a lot in common with numpy arrays."
   ]
  },
  {
   "cell_type": "code",
   "execution_count": 2,
   "id": "0e121b73",
   "metadata": {},
   "outputs": [],
   "source": [
    "arr = np.array([[1, 2, 5], [5, 7, 3]])"
   ]
  },
  {
   "cell_type": "code",
   "execution_count": 3,
   "id": "d4f37ee0",
   "metadata": {},
   "outputs": [
    {
     "data": {
      "text/plain": [
       "array([[1, 2, 5],\n",
       "       [5, 7, 3]])"
      ]
     },
     "execution_count": 3,
     "metadata": {},
     "output_type": "execute_result"
    }
   ],
   "source": [
    "arr"
   ]
  },
  {
   "cell_type": "markdown",
   "id": "816be552",
   "metadata": {},
   "source": [
    "Convert a numpy array to a Tensorflow tensor with the following line:"
   ]
  },
  {
   "cell_type": "code",
   "execution_count": 4,
   "id": "a6815c2d",
   "metadata": {},
   "outputs": [
    {
     "name": "stderr",
     "output_type": "stream",
     "text": [
      "2021-09-26 11:37:31.055346: I tensorflow/core/platform/cpu_feature_guard.cc:142] This TensorFlow binary is optimized with oneAPI Deep Neural Network Library (oneDNN) to use the following CPU instructions in performance-critical operations:  AVX2 FMA\n",
      "To enable them in other operations, rebuild TensorFlow with the appropriate compiler flags.\n"
     ]
    }
   ],
   "source": [
    "tensor = tf.convert_to_tensor(arr)"
   ]
  },
  {
   "cell_type": "markdown",
   "id": "3b85ef2e",
   "metadata": {},
   "source": [
    "Access the numpy array by using .numpy()"
   ]
  },
  {
   "cell_type": "code",
   "execution_count": 5,
   "id": "b7b965b3",
   "metadata": {},
   "outputs": [
    {
     "data": {
      "text/plain": [
       "array([[1, 2, 5],\n",
       "       [5, 7, 3]])"
      ]
     },
     "execution_count": 5,
     "metadata": {},
     "output_type": "execute_result"
    }
   ],
   "source": [
    "tensor.numpy()"
   ]
  },
  {
   "cell_type": "markdown",
   "id": "7bfe52d1",
   "metadata": {},
   "source": [
    "Tensors and array share some attributes, such as shape."
   ]
  },
  {
   "cell_type": "code",
   "execution_count": 6,
   "id": "a4462344",
   "metadata": {},
   "outputs": [
    {
     "data": {
      "text/plain": [
       "(2, 3)"
      ]
     },
     "execution_count": 6,
     "metadata": {},
     "output_type": "execute_result"
    }
   ],
   "source": [
    "arr.shape"
   ]
  },
  {
   "cell_type": "code",
   "execution_count": 7,
   "id": "3f20948d",
   "metadata": {},
   "outputs": [
    {
     "data": {
      "text/plain": [
       "TensorShape([2, 3])"
      ]
     },
     "execution_count": 7,
     "metadata": {},
     "output_type": "execute_result"
    }
   ],
   "source": [
    "tensor.shape"
   ]
  },
  {
   "cell_type": "markdown",
   "id": "1d268ff3",
   "metadata": {},
   "source": [
    "## Operations on tensors\n",
    "\n",
    "Similarly to np.arrays, we can perform operation on tensors.\n"
   ]
  },
  {
   "cell_type": "code",
   "execution_count": 8,
   "id": "3fe27211",
   "metadata": {},
   "outputs": [
    {
     "data": {
      "text/plain": [
       "<tf.Tensor: shape=(2, 3), dtype=int64, numpy=\n",
       "array([[1, 2, 5],\n",
       "       [5, 7, 3]])>"
      ]
     },
     "execution_count": 8,
     "metadata": {},
     "output_type": "execute_result"
    }
   ],
   "source": [
    "tensor"
   ]
  },
  {
   "cell_type": "code",
   "execution_count": 9,
   "id": "dc73216c",
   "metadata": {},
   "outputs": [
    {
     "data": {
      "text/plain": [
       "<tf.Tensor: shape=(2, 3), dtype=int64, numpy=\n",
       "array([[ 2,  4, 10],\n",
       "       [10, 14,  6]])>"
      ]
     },
     "execution_count": 9,
     "metadata": {},
     "output_type": "execute_result"
    }
   ],
   "source": [
    "tensor*2"
   ]
  },
  {
   "cell_type": "markdown",
   "id": "5d97ca25",
   "metadata": {},
   "source": [
    "Broadcasting rules apply."
   ]
  },
  {
   "cell_type": "code",
   "execution_count": 11,
   "id": "6134235e",
   "metadata": {},
   "outputs": [
    {
     "data": {
      "text/plain": [
       "<tf.Tensor: shape=(2, 3), dtype=int64, numpy=\n",
       "array([[ 3,  4, 10],\n",
       "       [15, 14,  6]])>"
      ]
     },
     "execution_count": 11,
     "metadata": {},
     "output_type": "execute_result"
    }
   ],
   "source": [
    "tensor*tf.constant([3, 2, 2], dtype=tf.int64)"
   ]
  },
  {
   "cell_type": "markdown",
   "id": "75332043",
   "metadata": {},
   "source": [
    "## Additional attribute & methods\n",
    "\n",
    "Find the tensor location\n"
   ]
  },
  {
   "cell_type": "code",
   "execution_count": 12,
   "id": "33d17823",
   "metadata": {},
   "outputs": [
    {
     "data": {
      "text/plain": [
       "'/job:localhost/replica:0/task:0/device:CPU:0'"
      ]
     },
     "execution_count": 12,
     "metadata": {},
     "output_type": "execute_result"
    }
   ],
   "source": [
    "tensor.device"
   ]
  },
  {
   "cell_type": "markdown",
   "id": "2fa2b4d4",
   "metadata": {},
   "source": [
    "Move tensor to the gpu by calling `tensor.gpu()`"
   ]
  },
  {
   "cell_type": "code",
   "execution_count": null,
   "id": "fef39446",
   "metadata": {},
   "outputs": [],
   "source": []
  }
 ],
 "metadata": {
  "kernelspec": {
   "display_name": "Python 3 (ipykernel)",
   "language": "python",
   "name": "python3"
  },
  "language_info": {
   "codemirror_mode": {
    "name": "ipython",
    "version": 3
   },
   "file_extension": ".py",
   "mimetype": "text/x-python",
   "name": "python",
   "nbconvert_exporter": "python",
   "pygments_lexer": "ipython3",
   "version": "3.8.11"
  }
 },
 "nbformat": 4,
 "nbformat_minor": 5
}
